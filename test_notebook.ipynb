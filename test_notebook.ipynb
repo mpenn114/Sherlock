{
 "cells": [
  {
   "cell_type": "markdown",
   "metadata": {},
   "source": [
    "# Test Notebook:\n",
    "\n",
    "Running the cell below should help to determine that everything is set up correctly.\n",
    "\n",
    "Note that you will be able to examine the outputs within the \"test_images\" folder in the repository\n",
    "\n",
    "Note also that you will see a warning that the EXIF data is corrupt. That's just because I've manually added metadata to these synthetic images and isn't an issue with the code."
   ]
  },
  {
   "cell_type": "code",
   "execution_count": null,
   "metadata": {},
   "outputs": [],
   "source": [
    "from sherlock.iterate_folders import run_sherlock\n",
    "from sherlock.config import EnvSettings\n",
    "import numpy as np\n",
    "\n",
    "env_settings = EnvSettings()\n",
    "env_settings.root_directory = \"test_images\"\n",
    "env_settings.image_suffix = \"jpg\"\n",
    "env_settings.image_prefix = \"image\"\n",
    "env_settings.size_tol_day = 5\n",
    "env_settings.size_tol_night = 3\n",
    "env_settings.colour_lower = np.array([-1,-1,-1])\n",
    "env_settings.colour_upper = np.array([50,50,40])\n",
    "env_settings.secondary_color_lower = np.array([-1,-1,-1])\n",
    "env_settings.secondary_color_upper = np.array([50,50,50])\n",
    "env_settings.save_images = True\n",
    "run_sherlock()"
   ]
  },
  {
   "cell_type": "code",
   "execution_count": null,
   "metadata": {},
   "outputs": [],
   "source": []
  }
 ],
 "metadata": {
  "kernelspec": {
   "display_name": "Python 3",
   "language": "python",
   "name": "python3"
  },
  "language_info": {
   "codemirror_mode": {
    "name": "ipython",
    "version": 3
   },
   "file_extension": ".py",
   "mimetype": "text/x-python",
   "name": "python",
   "nbconvert_exporter": "python",
   "pygments_lexer": "ipython3",
   "version": "3.13.0"
  }
 },
 "nbformat": 4,
 "nbformat_minor": 2
}
